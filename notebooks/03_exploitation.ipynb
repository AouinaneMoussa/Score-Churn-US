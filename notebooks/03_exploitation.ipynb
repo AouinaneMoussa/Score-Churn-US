{
 "cells": [
  {
   "cell_type": "markdown",
   "id": "dcc23541",
   "metadata": {},
   "source": [
    "# 03_exploitation.ipynb"
   ]
  },
  {
   "cell_type": "markdown",
   "id": "c0b39407",
   "metadata": {},
   "source": [
    "## 🎯 Interface utilisateur Gradio avec variables explicites"
   ]
  },
  {
   "cell_type": "code",
   "execution_count": 2,
   "id": "4abf65ff",
   "metadata": {},
   "outputs": [
    {
     "name": "stderr",
     "output_type": "stream",
     "text": [
      "c:\\Users\\moussa.aouinane\\Documents\\Ecom\\Score Churn Model\\.venv\\Lib\\site-packages\\tqdm\\auto.py:21: TqdmWarning: IProgress not found. Please update jupyter and ipywidgets. See https://ipywidgets.readthedocs.io/en/stable/user_install.html\n",
      "  from .autonotebook import tqdm as notebook_tqdm\n"
     ]
    }
   ],
   "source": [
    "import pandas as pd\n",
    "import numpy as np\n",
    "import matplotlib.pyplot as plt\n",
    "import seaborn as sns\n",
    "import joblib\n",
    "import os\n",
    "from sklearn.metrics import classification_report, ConfusionMatrixDisplay\n",
    "from fpdf import FPDF\n",
    "import gradio as gr"
   ]
  },
  {
   "cell_type": "code",
   "execution_count": 3,
   "id": "dee0b7dd",
   "metadata": {},
   "outputs": [
    {
     "name": "stdout",
     "output_type": "stream",
     "text": [
      "✅ Modèle, preprocessor et noms des colonnes originales chargés avec succès.\n"
     ]
    }
   ],
   "source": [
    "# 🔹 Charger le modèle, le preprocessor et les noms des colonnes originales\n",
    "MODEL_PATH = \"../models/churn_xgb_model.pkl\"\n",
    "PREPROCESSOR_PATH = \"../models/churn_preprocessor.pkl\"\n",
    "ORIGINAL_COLUMNS_PATH = \"../models/X_original_columns.pkl\" # Chemin vers les noms de colonnes sauvegardés\n",
    "\n",
    "try:\n",
    "    model = joblib.load(MODEL_PATH)\n",
    "    preprocessor = joblib.load(PREPROCESSOR_PATH)\n",
    "    X_original_columns = joblib.load(ORIGINAL_COLUMNS_PATH)\n",
    "    print(\"✅ Modèle, preprocessor et noms des colonnes originales chargés avec succès.\")\n",
    "except FileNotFoundError as e:\n",
    "    print(f\"Erreur de chargement de fichier : {e}. Assurez-vous que les fichiers .pkl existent dans ../models/\")\n",
    "    exit()\n",
    "except Exception as e:\n",
    "    print(f\"Erreur lors du chargement des artefacts : {e}\")\n",
    "    exit()\n",
    "\n",
    "# 🧾 Valeurs possibles pour les inputs Gradio\n",
    "# Ces listes doivent correspondre aux valeurs APRÈS le nettoyage manuel des catégories (cat_fix)\n",
    "login_device_options = [\"Computer\", \"Mobile\"]\n",
    "payment_mode_options = [\"Credit Card\", \"Debit Card\", \"E-Wallet\", \"UPI\", \"Cash on Delivery\"]\n",
    "gender_options = [\"Male\", \"Female\"]\n",
    "order_cat_options = [\"Laptop & Accessory\", \"Mobile\", \"Fashion\", \"Grocery\", \"Others\"] # Ordre/valeurs après nettoyage\n",
    "marital_status_options = [\"Single\", \"Married\", \"Divorced\"]\n",
    "city_tier_options_gradio = [\"1\", \"2\", \"3\"] # Les inputs Gradio seront des strings, convertis en int puis en category\n",
    "complain_options_gradio = [\"0 (Non)\", \"1 (Oui)\"] # Entrée descriptive, on extraira 0 ou 1\n"
   ]
  },
  {
   "cell_type": "code",
   "execution_count": 4,
   "id": "01efb3e9",
   "metadata": {},
   "outputs": [
    {
     "name": "stdout",
     "output_type": "stream",
     "text": [
      "* Running on local URL:  http://127.0.0.1:7862\n",
      "* To create a public link, set `share=True` in `launch()`.\n"
     ]
    },
    {
     "data": {
      "text/html": [
       "<div><iframe src=\"http://127.0.0.1:7862/\" width=\"100%\" height=\"500\" allow=\"autoplay; camera; microphone; clipboard-read; clipboard-write;\" frameborder=\"0\" allowfullscreen></iframe></div>"
      ],
      "text/plain": [
       "<IPython.core.display.HTML object>"
      ]
     },
     "metadata": {},
     "output_type": "display_data"
    }
   ],
   "source": [
    "# 🔮 Fonction principale de prédiction\n",
    "def predict_churn(device, payment, gender_val, category, status, tier_str, complain_str,\n",
    "                  tenure, distance, time_app, devices, satisfaction, addresses,\n",
    "                  hike, coupons, orders, days, cashback):\n",
    "\n",
    "    # 1. Extraire les valeurs numériques de complain_str\n",
    "    complain_val = int(complain_str.split(\" \")[0])\n",
    "    tier_val = int(tier_str)\n",
    "\n",
    "    # 2. Construction du dictionnaire avec les noms de colonnes originaux\n",
    "    input_dict = {\n",
    "        'PreferredLoginDevice': device,\n",
    "        'PreferredPaymentMode': payment,\n",
    "        'Gender': gender_val,\n",
    "        'PreferedOrderCat': category, # Attention à l'orthographe ici ('Prefered' vs 'Preferred') - doit correspondre à X_original_columns\n",
    "        'MaritalStatus': status,\n",
    "        'CityTier': tier_val, # Sera traité comme catégoriel par le preprocessor\n",
    "        'Complain': complain_val, # Sera traité comme catégoriel par le preprocessor\n",
    "        'Tenure': float(tenure) if tenure is not None else np.nan, # Gérer les inputs vides/None de Gradio\n",
    "        'WarehouseToHome': float(distance) if distance is not None else np.nan,\n",
    "        'HourSpendOnApp': float(time_app) if time_app is not None else np.nan,\n",
    "        'NumberOfDeviceRegistered': int(devices) if devices is not None else np.nan,\n",
    "        'SatisfactionScore': int(satisfaction) if satisfaction is not None else np.nan,\n",
    "        'NumberOfAddress': int(addresses) if addresses is not None else np.nan,\n",
    "        'OrderAmountHikeFromlastYear': float(hike) if hike is not None else np.nan,\n",
    "        'CouponUsed': int(coupons) if coupons is not None else np.nan,\n",
    "        'OrderCount': int(orders) if orders is not None else np.nan,\n",
    "        'DaySinceLastOrder': int(days) if days is not None else np.nan,\n",
    "        'CashbackAmount': float(cashback) if cashback is not None else np.nan\n",
    "    }\n",
    "\n",
    "    # 3. Créer un DataFrame Pandas en utilisant X_original_columns pour assurer l'ordre correct\n",
    "    df = pd.DataFrame([input_dict], columns=X_original_columns)\n",
    "\n",
    "    # 4. Appliquer les étapes de nettoyage des catégories (avant le preprocessor)\n",
    "    # Doit être identique à 01_preparation.ipynb\n",
    "    cat_fix = {\n",
    "        'PreferredLoginDevice': {'Phone': 'Mobile', 'Mobile Phone': 'Mobile'},\n",
    "        'PreferredPaymentMode': {'CC': 'Credit Card', 'COD': 'Cash on Delivery', 'E wallet': 'E-Wallet'},\n",
    "        'PreferedOrderCat': {'Mobile Phone': 'Mobile'}\n",
    "    }\n",
    "    for col, mapping in cat_fix.items():\n",
    "        if col in df.columns:\n",
    "            df[col] = df[col].replace(mapping)\n",
    "\n",
    "    # 5. Imputation des valeurs manquantes (si Gradio permet des champs vides et qu'ils deviennent NaN)\n",
    "    # La stratégie doit être la même que pour l'entraînement.\n",
    "    # Le preprocessor sauvegardé devrait idéalement gérer cela s'il a été fitté sur des données après imputation\n",
    "    # ou si SimpleImputer fait partie du pipeline pour chaque type de colonne.\n",
    "    # Si l'imputation a été faite manuellement avant de fitter le preprocessor dans 01_preparation,\n",
    "    # il faut la répliquer ici AVANT preprocessor.transform().\n",
    "    # Pour cet exemple, on suppose que le preprocessor gère l'imputation si nécessaire\n",
    "    # ou que les champs Gradio sont tous requis. Si ce n'est pas le cas :\n",
    "    cat_cols_for_preprocessor = ['PreferredLoginDevice', 'PreferredPaymentMode', 'Gender',\n",
    "                                 'PreferedOrderCat', 'MaritalStatus', 'CityTier', 'Complain']\n",
    "    num_cols_for_preprocessor = [col for col in X_original_columns if col not in cat_cols_for_preprocessor]\n",
    "\n",
    "    for col in df.columns:\n",
    "        if df[col].isnull().any():\n",
    "            if col in num_cols_for_preprocessor:\n",
    "                # Ici, il faudrait idéalement utiliser les médianes/modes sauvegardés de l'entraînement.\n",
    "                # Pour simplifier ici, si une valeur est manquante pour une numérique, on met 0\n",
    "                # ATTENTION: CE N'EST PAS IDÉAL, utilisez les valeurs d'imputation de l'entraînement\n",
    "                df[col].fillna(0, inplace=True)\n",
    "            elif col in cat_cols_for_preprocessor:\n",
    "                # Pour les catégorielles, utiliser le mode (ou une catégorie par défaut)\n",
    "                df[col].fillna(df[col].mode()[0] if not df[col].mode().empty else \"Unknown\", inplace=True)\n",
    "\n",
    "\n",
    "    # 6. Assurer les types corrects pour les colonnes catégorielles avant le preprocessor\n",
    "    for col in cat_cols_for_preprocessor:\n",
    "        if col in df.columns:\n",
    "            df[col] = df[col].astype('category')\n",
    "            # S'assurer que les catégories sont celles attendues par le OneHotEncoder\n",
    "            # (handle_unknown='ignore' devrait aider, mais c'est une source d'erreur potentielle)\n",
    "            # Par exemple, si le preprocessor a été entraîné avec certaines catégories pour CityTier:\n",
    "            # if col == 'CityTier' and hasattr(preprocessor.named_transformers_['cat'].named_steps['encoder'], 'categories_'):\n",
    "            #     known_categories = preprocessor.named_transformers_['cat'].named_steps['encoder'].categories_[cat_cols_for_preprocessor.index(col)]\n",
    "            #     df[col] = pd.Categorical(df[col], categories=known_categories)\n",
    "\n",
    "\n",
    "    # 7. Appliquer le preprocessor chargé\n",
    "    try:\n",
    "        df_processed = preprocessor.transform(df)\n",
    "    except Exception as e:\n",
    "        return f\"Erreur lors du prétraitement : {e}. Vérifiez les types et valeurs des inputs.\"\n",
    "\n",
    "    # 8. Prédiction\n",
    "    try:\n",
    "        proba = model.predict_proba(df_processed)[0][1]\n",
    "        prediction_val = model.predict(df_processed)[0]\n",
    "        prediction_label = \"⚠️ Le client risque de churner\" if prediction_val == 1 else \"✅ Le client semble fidèle\"\n",
    "        return f\"{prediction_label}\\nProbabilité de churn : {round(proba * 100, 2)}%\"\n",
    "    except Exception as e:\n",
    "        return f\"Erreur lors de la prédiction : {e}.\"\n",
    "\n",
    "# 🎛️ Interface Gradio\n",
    "inputs = [\n",
    "    gr.Dropdown(login_device_options, label=\"Appareil de Connexion Préféré\"),\n",
    "    gr.Dropdown(payment_mode_options, label=\"Mode de Paiement Préféré\"),\n",
    "    gr.Radio(gender_options, label=\"Genre\"),\n",
    "    gr.Dropdown(order_cat_options, label=\"Catégorie de Commande Préférée\"),\n",
    "    gr.Dropdown(marital_status_options, label=\"Statut marital\"),\n",
    "    gr.Radio(city_tier_options_gradio, label=\"Niveau de la Ville (Tier)\"),\n",
    "    gr.Radio(complain_options_gradio, label=\"A-t-il déposé une plainte ?\"),\n",
    "    gr.Number(label=\"Ancienneté (mois)\", value=10), # Ajout de valeurs par défaut pour test\n",
    "    gr.Number(label=\"Distance entre entrepôt et domicile (km)\", value=15),\n",
    "    gr.Number(label=\"Heures passées sur l'app (par mois en moyenne)\", value=3),\n",
    "    gr.Number(label=\"Nb d'appareils enregistrés\", value=3),\n",
    "    gr.Slider(1, 5, step=1, label=\"Score de satisfaction\", value=3),\n",
    "    gr.Number(label=\"Nb d'adresses enregistrées\", value=2),\n",
    "    gr.Number(label=\"Augmentation du montant des commandes depuis l'an dernier (%)\", value=15),\n",
    "    gr.Number(label=\"Nb de coupons utilisés (le mois dernier)\", value=1),\n",
    "    gr.Number(label=\"Nb de commandes (le mois dernier)\", value=2),\n",
    "    gr.Number(label=\"Nb de jours depuis dernière commande\", value=5),\n",
    "    gr.Number(label=\"Montant moyen de cashback (€)\", value=150)\n",
    "]\n",
    "\n",
    "interface = gr.Interface(\n",
    "    fn=predict_churn,\n",
    "    inputs=inputs,\n",
    "    outputs=gr.Textbox(label=\"Résultat de la prédiction\"),\n",
    "    title=\"🧠 Prédiction de Churn Client\",\n",
    "    description=\"Entrez les caractéristiques du client pour prédire la probabilité de churn.\"\n",
    ")\n",
    "\n",
    "# 🚀 Lancement\n",
    "if __name__ == '__main__':\n",
    "    interface.launch()"
   ]
  }
 ],
 "metadata": {
  "kernelspec": {
   "display_name": ".venv",
   "language": "python",
   "name": "python3"
  },
  "language_info": {
   "codemirror_mode": {
    "name": "ipython",
    "version": 3
   },
   "file_extension": ".py",
   "mimetype": "text/x-python",
   "name": "python",
   "nbconvert_exporter": "python",
   "pygments_lexer": "ipython3",
   "version": "3.13.3"
  }
 },
 "nbformat": 4,
 "nbformat_minor": 5
}
